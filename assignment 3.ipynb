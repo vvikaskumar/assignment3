{
 "cells": [
  {
   "cell_type": "markdown",
   "id": "a12a0456-3244-49c3-bcd0-2f596795211b",
   "metadata": {},
   "source": [
    "Q1. Which keyword is used to create a function? Create a function to return a list of odd numbers in the\n",
    "range of 1 to 25.\n",
    "\n",
    "Ans - def keyword is used to create a function.\n",
    "and some answer is next  cell"
   ]
  },
  {
   "cell_type": "code",
   "execution_count": 1,
   "id": "4225ca96-a75f-4bef-bbee-2fbfe2b6978d",
   "metadata": {},
   "outputs": [],
   "source": [
    "l = [1,2,3,4,5,6,7,8,9,10,11,12,13,14,15,16,17,18,19,20,21,22,23,24,25]"
   ]
  },
  {
   "cell_type": "code",
   "execution_count": 2,
   "id": "c796e69b-d9f3-4f3b-a6a9-2b18c09c2e2a",
   "metadata": {},
   "outputs": [],
   "source": [
    "def test_odd(l):\n",
    "    for i in l:\n",
    "        if i %2 != 0:\n",
    "            print(int(i))"
   ]
  },
  {
   "cell_type": "markdown",
   "id": "ec5df028-215b-4b38-bde8-db0ba1c0def9",
   "metadata": {},
   "source": [
    "test_odd(l)"
   ]
  },
  {
   "cell_type": "code",
   "execution_count": 3,
   "id": "da02ea68-cc02-45ef-b13f-4d62b13ee7f8",
   "metadata": {},
   "outputs": [
    {
     "name": "stdout",
     "output_type": "stream",
     "text": [
      "1 3 5 7 9 11 13 15 17 19 21 23 25 "
     ]
    }
   ],
   "source": [
    "# Python program to print odd Numbers in given range\n",
    " \n",
    "start, end = 1, 25\n",
    " \n",
    "# iterating each number in list\n",
    "for num in range(start, end + 1):\n",
    "     \n",
    "    # checking condition\n",
    "    if num % 2 != 0:\n",
    "        print(num, end = \" \")"
   ]
  },
  {
   "cell_type": "markdown",
   "id": "cc249b87-7040-4ee1-9511-08851fdd938e",
   "metadata": {},
   "source": [
    "Q2. Why *args and **kwargs is used in some functions? Create a function each for *args and **kwargs to demonstrate their use.\n",
    "\n",
    "Ans - *args specifies the number of non-keyworded arguments that can be passed and the operations that can be performed on the function in python whereas **kwargs is a variable number of keyworded arguments that can be passed to a function that can perform dictionary operations.\n",
    "and some answer is in next cell"
   ]
  },
  {
   "cell_type": "code",
   "execution_count": 4,
   "id": "b4991c6b-867c-4f0b-9828-014de9e1a7e6",
   "metadata": {},
   "outputs": [],
   "source": [
    "def test(*args):\n",
    "    return args"
   ]
  },
  {
   "cell_type": "code",
   "execution_count": 5,
   "id": "09d10ee5-51b7-4d72-9a8e-88db271a1620",
   "metadata": {},
   "outputs": [
    {
     "data": {
      "text/plain": [
       "(1, 2, 3, 4, 'vikas', 12.32)"
      ]
     },
     "execution_count": 5,
     "metadata": {},
     "output_type": "execute_result"
    }
   ],
   "source": [
    "test(1,2,3,4,'vikas' ,12.32)"
   ]
  },
  {
   "cell_type": "code",
   "execution_count": 6,
   "id": "7ce0359c-6469-4078-8abb-869bdf1018d1",
   "metadata": {},
   "outputs": [],
   "source": [
    "def test2(**kwargs):\n",
    "    return kwargs"
   ]
  },
  {
   "cell_type": "code",
   "execution_count": 7,
   "id": "55f179e4-3db6-4759-a633-17d336281345",
   "metadata": {},
   "outputs": [
    {
     "data": {
      "text/plain": [
       "{'a': 322, 'b': 'vikas', 'c': (232+75j)}"
      ]
     },
     "execution_count": 7,
     "metadata": {},
     "output_type": "execute_result"
    }
   ],
   "source": [
    "test2(a = 322,b = \"vikas\" ,c = 232+75j)"
   ]
  },
  {
   "cell_type": "markdown",
   "id": "50239adb-aaca-4da5-9158-33607f996823",
   "metadata": {},
   "source": [
    "Q4. What is a generator function in python? Why yield keyword is used? Give an example of a generator function.\n",
    "Ans - A Python generator function allows you to declare a function that behaves like an iterator , providing a faster and easier way to create iterators. They can be used on an abstract container of data to turn it into an iterable object like lists, dictionaries and strings.\n",
    "yield keyword is used to crate a generator function.A type of function that is memory efficient and can be used like an iterator object.\n",
    "some answer is in the next cell"
   ]
  },
  {
   "cell_type": "code",
   "execution_count": 8,
   "id": "1377d402-43da-4cb7-8ae6-fdbbceaa433d",
   "metadata": {},
   "outputs": [],
   "source": [
    "def test_func():\n",
    "    return \"a\""
   ]
  },
  {
   "cell_type": "code",
   "execution_count": 9,
   "id": "2d17aa63-cd9c-4a86-8c46-22402f7481d5",
   "metadata": {},
   "outputs": [
    {
     "data": {
      "text/plain": [
       "'a'"
      ]
     },
     "execution_count": 9,
     "metadata": {},
     "output_type": "execute_result"
    }
   ],
   "source": [
    "test_func()"
   ]
  },
  {
   "cell_type": "markdown",
   "id": "f014570a-3292-43b6-a55a-f5e69759523a",
   "metadata": {},
   "source": [
    "Q3. What is an iterator in python? Name the method used to initialise the iterator object and the method used for iteration. Use these methods to print the first five elements of the given list [2, 4, 6, 8, 10, 12, 14,\n",
    "16, 18, 20].\n",
    "Ans - An iterator in python is that is used to iterate over iterable objects like lists ,tuples , dicts and sets.\n",
    "The Python iterators object is initialized using the iter ()method.It uses the next() method for iteration.\n",
    "some ans is in the next cell"
   ]
  },
  {
   "cell_type": "code",
   "execution_count": 10,
   "id": "27d12bb1-b6de-4ff0-93e2-897ea37519f0",
   "metadata": {},
   "outputs": [
    {
     "name": "stdout",
     "output_type": "stream",
     "text": [
      "2\n",
      "4\n",
      "6\n",
      "8\n",
      "10\n"
     ]
    }
   ],
   "source": [
    "list = [2,4,6,8,10,12,14,16,18,20]\n",
    "\n",
    "for i in list :\n",
    "    if i <12 :\n",
    "        print(i)\n"
   ]
  },
  {
   "cell_type": "markdown",
   "id": "84249c3f-e8da-4f36-bdbe-d01742c49ae5",
   "metadata": {},
   "source": [
    "Q4. What is a generator function in python? Why yield keyword is used? Give an example of a generator\n",
    "function.\n",
    "\n",
    "Ans - APython generator function allows to you to declare a function that behaves like an iterator , providing a faster and easir way to create iterators. They can use on abstract container of data to turn into an iterable object like lists , dictionaries and strings.\n",
    "yield keyword is very helpful in generator function to creating an iterator.The yield keyword will turn any expression that is given with it into a generator objectand return it to the caller. Example is in the next cell"
   ]
  },
  {
   "cell_type": "code",
   "execution_count": 11,
   "id": "fdfe5f9e-ed3c-401c-8df7-dcce0421765d",
   "metadata": {},
   "outputs": [],
   "source": [
    "def generator_func():\n",
    "    for i in \"apple\":\n",
    "        yield i"
   ]
  },
  {
   "cell_type": "code",
   "execution_count": 12,
   "id": "f2d42988-437c-4474-933f-780173d76a08",
   "metadata": {},
   "outputs": [
    {
     "name": "stdout",
     "output_type": "stream",
     "text": [
      "a\n"
     ]
    }
   ],
   "source": [
    "gen = generator_func()\n",
    "print(next(gen))"
   ]
  },
  {
   "cell_type": "code",
   "execution_count": 13,
   "id": "412cd7f5-3776-4764-a581-a161dfdf7aca",
   "metadata": {},
   "outputs": [
    {
     "name": "stdout",
     "output_type": "stream",
     "text": [
      "p\n"
     ]
    }
   ],
   "source": [
    "print(next(gen))"
   ]
  },
  {
   "cell_type": "code",
   "execution_count": 14,
   "id": "c8221001-56a4-4d58-bb27-e43697482184",
   "metadata": {},
   "outputs": [
    {
     "name": "stdout",
     "output_type": "stream",
     "text": [
      "p\n"
     ]
    }
   ],
   "source": [
    "print(next(gen))"
   ]
  },
  {
   "cell_type": "code",
   "execution_count": 15,
   "id": "4afc3200-d5bc-4867-ba76-89a6954437da",
   "metadata": {},
   "outputs": [
    {
     "name": "stdout",
     "output_type": "stream",
     "text": [
      "l\n"
     ]
    }
   ],
   "source": [
    "print(next(gen))"
   ]
  },
  {
   "cell_type": "code",
   "execution_count": 16,
   "id": "e6ef4520-2c4e-4706-b665-5c5190247ca5",
   "metadata": {},
   "outputs": [
    {
     "name": "stdout",
     "output_type": "stream",
     "text": [
      "e\n"
     ]
    }
   ],
   "source": [
    "print(next(gen))"
   ]
  },
  {
   "cell_type": "markdown",
   "id": "a960c477-dfb6-4207-8a9d-c161ab7ac669",
   "metadata": {},
   "source": [
    "Q5. Create a generator function for prime numbers less than 1000. Use the next() method to print the\n",
    "first 20 prime numbers.\n",
    "\n",
    "Ans - answer is next cell"
   ]
  },
  {
   "cell_type": "code",
   "execution_count": 17,
   "id": "9f05c2a8-812a-4864-8f79-70a17c4b6e9f",
   "metadata": {},
   "outputs": [
    {
     "name": "stdin",
     "output_type": "stream",
     "text": [
      "lower limit here 2\n",
      "upper limit here 100\n"
     ]
    },
    {
     "name": "stdout",
     "output_type": "stream",
     "text": [
      "2\n",
      "3\n",
      "5\n",
      "7\n",
      "11\n",
      "13\n",
      "17\n",
      "19\n",
      "23\n",
      "29\n",
      "31\n",
      "37\n",
      "41\n",
      "43\n",
      "47\n",
      "53\n",
      "59\n",
      "61\n",
      "67\n",
      "71\n",
      "73\n",
      "79\n",
      "83\n",
      "89\n",
      "97\n"
     ]
    }
   ],
   "source": [
    "lower = int(input(\"lower limit here\"))\n",
    "upper = int(input(\"upper limit here\"))\n",
    "\n",
    "for num in range (lower, upper+1):\n",
    "    if num >1:\n",
    "        for i in range(2, num):\n",
    "            if num%i == 0:\n",
    "                break\n",
    "                \n",
    "        else:\n",
    "            print(num)\n",
    "                    \n"
   ]
  },
  {
   "cell_type": "markdown",
   "id": "a68038e7-3bed-450a-b083-3bdca031044d",
   "metadata": {},
   "source": [
    "Q6. Write a python program to print the first 10 Fibonacci numbers using a while loop. Ans - answer in next cell"
   ]
  },
  {
   "cell_type": "code",
   "execution_count": 18,
   "id": "5775c35d-5ab5-4a2b-b6db-de119c257484",
   "metadata": {},
   "outputs": [],
   "source": [
    "def test_fib(n):\n",
    "    a , b = 0 ,1\n",
    "    for i in range(n):\n",
    "        yield a\n",
    "        a , b = b , a+b"
   ]
  },
  {
   "cell_type": "code",
   "execution_count": 19,
   "id": "f738418e-336e-49c3-8460-1c97b62cdd61",
   "metadata": {},
   "outputs": [
    {
     "name": "stdout",
     "output_type": "stream",
     "text": [
      "0\n",
      "1\n",
      "1\n",
      "2\n",
      "3\n",
      "5\n",
      "8\n",
      "13\n",
      "21\n",
      "34\n"
     ]
    }
   ],
   "source": [
    "for i in test_fib(10):\n",
    "    print(i)"
   ]
  },
  {
   "cell_type": "markdown",
   "id": "a814f65e-23e4-4356-8649-1feb70c93164",
   "metadata": {},
   "source": [
    "Q7. Write a List Comprehension to iterate through the given string: ‘pwskills’.\n",
    "Expected output: ['p', 'w', 's', 'k', 'i', 'l', 'l', 's']\n",
    "\n",
    "\n",
    "Ans - Answer is in the next cell"
   ]
  },
  {
   "cell_type": "code",
   "execution_count": 26,
   "id": "08dce93d-62b7-427b-979d-d221cbd01af3",
   "metadata": {},
   "outputs": [
    {
     "name": "stdout",
     "output_type": "stream",
     "text": [
      "['p', 'w', 's', 'k', 'i', 'l', 'l', 's']\n"
     ]
    }
   ],
   "source": [
    "v = \"pwskills\"\n",
    "pw = [g  for g in v]\n",
    "print(pw)\n"
   ]
  },
  {
   "cell_type": "markdown",
   "id": "756bff6e-2e98-4d02-a739-1cc2205cdb12",
   "metadata": {},
   "source": [
    "Q8. Write a python program to check whether a given number is Palindrome or not using a while loop.\n",
    "\n",
    "Ans - answer is in the next cell"
   ]
  },
  {
   "cell_type": "code",
   "execution_count": 21,
   "id": "aa2b7fc5-d4d3-4e77-a3ee-f98765c43bb4",
   "metadata": {},
   "outputs": [
    {
     "name": "stdin",
     "output_type": "stream",
     "text": [
      "enter your number  232\n"
     ]
    },
    {
     "name": "stdout",
     "output_type": "stream",
     "text": [
      "it's a palindrome\n"
     ]
    }
   ],
   "source": [
    "value = input(\"enter your number \")\n",
    "reverse_value = value [::-1]\n",
    "if value == reverse_value:\n",
    "    print(\"it's a palindrome\")\n",
    "    \n",
    "else:\n",
    "    print(\"it's not a plaindrome\")\n"
   ]
  },
  {
   "cell_type": "code",
   "execution_count": 23,
   "id": "79a10a46-a0ac-4a5c-9582-d3351d4f786d",
   "metadata": {},
   "outputs": [
    {
     "name": "stdin",
     "output_type": "stream",
     "text": [
      "enter your number  radar\n"
     ]
    },
    {
     "name": "stdout",
     "output_type": "stream",
     "text": [
      "it's a palindrome\n"
     ]
    }
   ],
   "source": [
    "value = input(\"enter your number \")\n",
    "reverse_value = value [::-1]\n",
    "if value == reverse_value:\n",
    "    print(\"it's a palindrome\")\n",
    "    \n",
    "else:\n",
    "    print(\"it's not a plaindrome\")\n"
   ]
  },
  {
   "cell_type": "markdown",
   "id": "6e37fa2b-e628-4944-a764-258db95bf5d8",
   "metadata": {},
   "source": [
    "Q9. Write a code to print odd numbers from 1 to 100 using list comprehension.\n",
    "\n",
    "Ans - Answer is in the next cell"
   ]
  },
  {
   "cell_type": "code",
   "execution_count": 25,
   "id": "0ee9b340-eea7-4d6a-a982-6ba47378f8b0",
   "metadata": {},
   "outputs": [
    {
     "name": "stdout",
     "output_type": "stream",
     "text": [
      "[1, 3, 5, 7, 9, 11, 13, 15, 17, 19, 21, 23, 25, 27, 29, 31, 33, 35, 37, 39, 41, 43, 45, 47, 49, 51, 53, 55, 57, 59, 61, 63, 65, 67, 69, 71, 73, 75, 77, 79, 81, 83, 85, 87, 89, 91, 93, 95, 97, 99]\n"
     ]
    }
   ],
   "source": [
    "n = [m for m in range(1,100)  if m%2!=0]\n",
    "print(n)"
   ]
  },
  {
   "cell_type": "code",
   "execution_count": null,
   "id": "54918b67-f4f6-4665-9a28-7751aeeefdd9",
   "metadata": {},
   "outputs": [],
   "source": []
  }
 ],
 "metadata": {
  "kernelspec": {
   "display_name": "Python 3 (ipykernel)",
   "language": "python",
   "name": "python3"
  },
  "language_info": {
   "codemirror_mode": {
    "name": "ipython",
    "version": 3
   },
   "file_extension": ".py",
   "mimetype": "text/x-python",
   "name": "python",
   "nbconvert_exporter": "python",
   "pygments_lexer": "ipython3",
   "version": "3.10.8"
  }
 },
 "nbformat": 4,
 "nbformat_minor": 5
}
